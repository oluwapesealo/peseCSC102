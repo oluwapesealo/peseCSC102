{
 "cells": [
  {
   "cell_type": "code",
   "execution_count": 1,
   "metadata": {},
   "outputs": [
    {
     "name": "stderr",
     "output_type": "stream",
     "text": [
      "Matplotlib is building the font cache; this may take a moment.\n"
     ]
    }
   ],
   "source": [
    "%matplotlib inline"
   ]
  },
  {
   "cell_type": "code",
   "execution_count": 2,
   "metadata": {},
   "outputs": [
    {
     "data": {
      "text/plain": [
       "{'ALLUSERSPROFILE': 'C:\\\\ProgramData',\n",
       " 'APPDATA': 'C:\\\\Users\\\\Owner\\\\AppData\\\\Roaming',\n",
       " 'COMMONPROGRAMFILES': 'C:\\\\Program Files\\\\Common Files',\n",
       " 'COMMONPROGRAMFILES(X86)': 'C:\\\\Program Files (x86)\\\\Common Files',\n",
       " 'COMMONPROGRAMW6432': 'C:\\\\Program Files\\\\Common Files',\n",
       " 'COMPUTERNAME': 'DESKTOP-5P9C18K',\n",
       " 'COMSPEC': 'C:\\\\WINDOWS\\\\system32\\\\cmd.exe',\n",
       " 'DRIVERDATA': 'C:\\\\Windows\\\\System32\\\\Drivers\\\\DriverData',\n",
       " 'HOMEDRIVE': 'C:',\n",
       " 'HOMEPATH': '\\\\Users\\\\Owner',\n",
       " 'LOCALAPPDATA': 'C:\\\\Users\\\\Owner\\\\AppData\\\\Local',\n",
       " 'LOGONSERVER': '\\\\\\\\DESKTOP-5P9C18K',\n",
       " 'NUMBER_OF_PROCESSORS': '4',\n",
       " 'ONEDRIVE': 'C:\\\\Users\\\\Owner\\\\OneDrive',\n",
       " 'ONEDRIVECONSUMER': 'C:\\\\Users\\\\Owner\\\\OneDrive',\n",
       " 'OS': 'Windows_NT',\n",
       " 'PATH': 'C:\\\\Users\\\\Owner\\\\anaconda3;C:\\\\Users\\\\Owner\\\\anaconda3\\\\Library\\\\mingw-w64\\\\bin;C:\\\\Users\\\\Owner\\\\anaconda3\\\\Library\\\\usr\\\\bin;C:\\\\Users\\\\Owner\\\\anaconda3\\\\Library\\\\bin;C:\\\\Users\\\\Owner\\\\anaconda3\\\\Scripts;C:\\\\WINDOWS\\\\system32;C:\\\\WINDOWS;C:\\\\WINDOWS\\\\System32\\\\Wbem;C:\\\\WINDOWS\\\\System32\\\\WindowsPowerShell\\\\v1.0\\\\;C:\\\\WINDOWS\\\\System32\\\\OpenSSH\\\\;C:\\\\Program Files\\\\Git\\\\cmd;C:\\\\Users\\\\Owner\\\\AppData\\\\Local\\\\Microsoft\\\\WindowsApps;C:\\\\Users\\\\Owner\\\\AppData\\\\Local\\\\Programs\\\\MiKTeX\\\\miktex\\\\bin\\\\x64\\\\',\n",
       " 'PATHEXT': '.COM;.EXE;.BAT;.CMD;.VBS;.VBE;.JS;.JSE;.WSF;.WSH;.MSC',\n",
       " 'PROCESSOR_ARCHITECTURE': 'AMD64',\n",
       " 'PROCESSOR_IDENTIFIER': 'Intel64 Family 6 Model 78 Stepping 3, GenuineIntel',\n",
       " 'PROCESSOR_LEVEL': '6',\n",
       " 'PROCESSOR_REVISION': '4e03',\n",
       " 'PROGRAMDATA': 'C:\\\\ProgramData',\n",
       " 'PROGRAMFILES': 'C:\\\\Program Files',\n",
       " 'PROGRAMFILES(X86)': 'C:\\\\Program Files (x86)',\n",
       " 'PROGRAMW6432': 'C:\\\\Program Files',\n",
       " 'PSMODULEPATH': 'C:\\\\Program Files\\\\WindowsPowerShell\\\\Modules;C:\\\\WINDOWS\\\\system32\\\\WindowsPowerShell\\\\v1.0\\\\Modules',\n",
       " 'PUBLIC': 'C:\\\\Users\\\\Public',\n",
       " 'SESSIONNAME': 'Console',\n",
       " 'SYSTEMDRIVE': 'C:',\n",
       " 'SYSTEMROOT': 'C:\\\\WINDOWS',\n",
       " 'TEMP': 'C:\\\\Users\\\\Owner\\\\AppData\\\\Local\\\\Temp',\n",
       " 'TMP': 'C:\\\\Users\\\\Owner\\\\AppData\\\\Local\\\\Temp',\n",
       " 'USERDOMAIN': 'DESKTOP-5P9C18K',\n",
       " 'USERDOMAIN_ROAMINGPROFILE': 'DESKTOP-5P9C18K',\n",
       " 'USERNAME': 'Owner',\n",
       " 'USERPROFILE': 'C:\\\\Users\\\\Owner',\n",
       " 'WINDIR': 'C:\\\\WINDOWS',\n",
       " 'CONDA_PREFIX': 'C:\\\\Users\\\\Owner\\\\anaconda3',\n",
       " 'JPY_INTERRUPT_EVENT': '2300',\n",
       " 'IPY_INTERRUPT_EVENT': '2300',\n",
       " 'JPY_PARENT_PID': '2324',\n",
       " 'TERM': 'xterm-color',\n",
       " 'CLICOLOR': '1',\n",
       " 'PAGER': 'cat',\n",
       " 'GIT_PAGER': 'cat',\n",
       " 'MPLBACKEND': 'module://ipykernel.pylab.backend_inline'}"
      ]
     },
     "execution_count": 2,
     "metadata": {},
     "output_type": "execute_result"
    }
   ],
   "source": [
    "%env"
   ]
  },
  {
   "cell_type": "code",
   "execution_count": 4,
   "metadata": {},
   "outputs": [
    {
     "name": "stdout",
     "output_type": "stream",
     "text": [
      "Object `<variable>` not found.\n"
     ]
    }
   ],
   "source": [
    "%pinfo <variable>"
   ]
  },
  {
   "cell_type": "code",
   "execution_count": 5,
   "metadata": {},
   "outputs": [
    {
     "data": {
      "text/plain": [
       "'C:\\\\Users\\\\Owner\\\\Documents\\\\peseCSC102'"
      ]
     },
     "execution_count": 5,
     "metadata": {},
     "output_type": "execute_result"
    }
   ],
   "source": [
    "%pwd"
   ]
  },
  {
   "cell_type": "code",
   "execution_count": 6,
   "metadata": {},
   "outputs": [
    {
     "name": "stdout",
     "output_type": "stream",
     "text": [
      "C:\\Users\\Owner\n"
     ]
    }
   ],
   "source": [
    "%cd"
   ]
  },
  {
   "cell_type": "code",
   "execution_count": 7,
   "metadata": {},
   "outputs": [
    {
     "name": "stdout",
     "output_type": "stream",
     "text": [
      " Volume in drive C is OSDisk\n",
      " Volume Serial Number is 64DC-FCB1\n",
      "\n",
      " Directory of C:\\Users\\Owner\n",
      "\n",
      "04/15/2021  08:25 PM    <DIR>          .\n",
      "04/15/2021  08:25 PM    <DIR>          ..\n",
      "02/11/2021  12:04 AM    <DIR>          .conda\n",
      "02/10/2021  11:22 PM                43 .condarc\n",
      "02/09/2021  09:35 PM    <DIR>          .ipython\n",
      "02/10/2021  08:34 PM    <DIR>          .jupyter\n",
      "04/15/2021  08:25 PM    <DIR>          .matplotlib\n",
      "05/10/2020  10:20 PM    <DIR>          .Origin\n",
      "05/10/2020  10:20 PM    <DIR>          .QtWebEngineProcess\n",
      "11/10/2020  07:45 AM    <DIR>          3D Objects\n",
      "02/09/2021  09:22 PM    <DIR>          anaconda3\n",
      "11/10/2020  07:45 AM    <DIR>          Contacts\n",
      "03/21/2021  03:28 PM    <DIR>          Desktop\n",
      "04/15/2021  08:21 PM    <DIR>          Documents\n",
      "04/15/2021  08:08 PM    <DIR>          Downloads\n",
      "11/10/2020  07:45 AM    <DIR>          Favorites\n",
      "11/10/2020  07:45 AM    <DIR>          Links\n",
      "03/01/2021  07:42 PM                22 miktex-console.lock\n",
      "11/10/2020  07:45 AM    <DIR>          Music\n",
      "04/15/2021  12:55 PM    <DIR>          OneDrive\n",
      "02/09/2021  09:38 PM    <DIR>          Pictures\n",
      "11/10/2020  07:45 AM    <DIR>          Saved Games\n",
      "11/10/2020  07:45 AM    <DIR>          Searches\n",
      "02/22/2021  08:28 PM    <DIR>          Videos\n",
      "               2 File(s)             65 bytes\n",
      "              22 Dir(s)  19,859,726,336 bytes free\n"
     ]
    }
   ],
   "source": [
    "%ls"
   ]
  },
  {
   "cell_type": "code",
   "execution_count": 8,
   "metadata": {},
   "outputs": [
    {
     "name": "stdout",
     "output_type": "stream",
     "text": [
      "%matplotlib inline\n",
      "%env\n",
      "%pinfo<variable>\n",
      "%pinfo <variable>\n",
      "%pwd\n",
      "%cd\n",
      "%ls\n",
      "%history\n"
     ]
    }
   ],
   "source": [
    "%history"
   ]
  },
  {
   "cell_type": "code",
   "execution_count": 9,
   "metadata": {},
   "outputs": [
    {
     "name": "stdout",
     "output_type": "stream",
     "text": [
      "Wall time: 391 ms\n"
     ]
    }
   ],
   "source": [
    "%%time\n",
    "import random\n",
    "for i in range(0, 1000000):\n",
    "    random.random()"
   ]
  },
  {
   "cell_type": "code",
   "execution_count": null,
   "metadata": {},
   "outputs": [],
   "source": []
  }
 ],
 "metadata": {
  "kernelspec": {
   "display_name": "Python 3",
   "language": "python",
   "name": "python3"
  },
  "language_info": {
   "codemirror_mode": {
    "name": "ipython",
    "version": 3
   },
   "file_extension": ".py",
   "mimetype": "text/x-python",
   "name": "python",
   "nbconvert_exporter": "python",
   "pygments_lexer": "ipython3",
   "version": "3.8.5"
  }
 },
 "nbformat": 4,
 "nbformat_minor": 4
}
