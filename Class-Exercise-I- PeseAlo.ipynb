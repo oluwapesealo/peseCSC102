{
 "cells": [
  {
   "cell_type": "code",
   "execution_count": 4,
   "metadata": {},
   "outputs": [
    {
     "name": "stdout",
     "output_type": "stream",
     "text": [
      "Enter a number to generate its pattern = 5\n",
      "1 \n",
      "1 2 \n",
      "1 2 3 \n",
      "1 2 3 4 \n",
      "1 2 3 4 5 \n"
     ]
    }
   ],
   "source": [
    "num = int(input(\"Enter a number to generate its pattern = \"))\n",
    "for i in range(1,num + 1):\n",
    "    for j in range(1,i + 1):\n",
    "        print (j, end = \" \")\n",
    "    print()"
   ]
  },
  {
   "cell_type": "code",
   "execution_count": 5,
   "metadata": {},
   "outputs": [
    {
     "name": "stdout",
     "output_type": "stream",
     "text": [
      "2 is a prime number\n",
      "3 is a prime number\n",
      "4 is a prime number\n",
      "5 is a prime number\n",
      "6 is a prime number\n",
      "7 is a prime number\n",
      "8 is a prime number\n",
      "9 is a prime number\n",
      "10 is a prime number\n",
      "11 is a prime number\n",
      "12 is a prime number\n",
      "13 is a prime number\n",
      "14 is a prime number\n",
      "15 is a prime number\n",
      "16 is a prime number\n",
      "17 is a prime number\n",
      "18 is a prime number\n",
      "19 is a prime number\n",
      "20 is a prime number\n",
      "21 is a prime number\n",
      "22 is a prime number\n",
      "23 is a prime number\n",
      "24 is a prime number\n",
      "25 is a prime number\n",
      "26 is a prime number\n",
      "27 is a prime number\n",
      "28 is a prime number\n",
      "29 is a prime number\n",
      "30 is a prime number\n",
      "31 is a prime number\n",
      "32 is a prime number\n",
      "33 is a prime number\n",
      "34 is a prime number\n",
      "35 is a prime number\n",
      "36 is a prime number\n",
      "37 is a prime number\n",
      "38 is a prime number\n",
      "39 is a prime number\n",
      "40 is a prime number\n",
      "41 is a prime number\n",
      "42 is a prime number\n",
      "43 is a prime number\n",
      "44 is a prime number\n",
      "45 is a prime number\n",
      "46 is a prime number\n",
      "47 is a prime number\n",
      "48 is a prime number\n",
      "49 is a prime number\n",
      "Bye Bye!!\n"
     ]
    }
   ],
   "source": [
    "num = 2\n",
    "for i in range(2,50):\n",
    "    j=2\n",
    "    while (j <= (1/2)):\n",
    "        if (i %j ==0):\n",
    "            break\n",
    "        j+= 1\n",
    "    if ( j> 1/j):\n",
    "        print (i, \"is a prime number\")\n",
    "print (\"Bye Bye!!\")"
   ]
  },
  {
   "cell_type": "code",
   "execution_count": 6,
   "metadata": {},
   "outputs": [
    {
     "name": "stdout",
     "output_type": "stream",
     "text": [
      "Enter a number3\n",
      "factorial of  3 is 6\n"
     ]
    }
   ],
   "source": [
    "num = int(input(\"Enter a number\"))\n",
    "fact = 1\n",
    "if num < 0:\n",
    "    print(\"Sorry, factorial does not exist for negative number\")\n",
    "elif num == 0:\n",
    "    print(\"The factorial of 0 is 1\")\n",
    "else:\n",
    "    for i in range(1, num + 1):\n",
    "        fact = fact * i\n",
    "    print(\"factorial of \",num , \"is\", fact)"
   ]
  },
  {
   "cell_type": "code",
   "execution_count": 7,
   "metadata": {},
   "outputs": [
    {
     "name": "stdout",
     "output_type": "stream",
     "text": [
      "Enter the number to be checked: 5\n",
      "5 is a prime number\n"
     ]
    }
   ],
   "source": [
    "num = int(input(\"Enter the number to be checked: \"))\n",
    "flag = 0\n",
    "if num > 1 :\n",
    "    for i in range(2, int(num / 2)):\n",
    "        if (num % i == 0):\n",
    "            flag = 1\n",
    "    if flag == 1:\n",
    "        print(num, \"is not a prime number\")\n",
    "    else:\n",
    "            print(num, \"is a prime number\")\n",
    "else:\n",
    "    print (\"Entered numberr is <= 1, execute again!\")\n",
    "    "
   ]
  },
  {
   "cell_type": "code",
   "execution_count": 8,
   "metadata": {},
   "outputs": [
    {
     "name": "stdout",
     "output_type": "stream",
     "text": [
      "Enter a number to find its factor: 9\n",
      "1 3 9 "
     ]
    }
   ],
   "source": [
    "num = int(input(\"Enter a number to find its factor: \"))\n",
    "print (1, end= ' ')\n",
    "factor = 2\n",
    "while factor<= num/2 :\n",
    "    if num % factor == 0:\n",
    "        print(factor, end=' ')\n",
    "    factor += 1\n",
    "print (num, end=' ')"
   ]
  },
  {
   "cell_type": "code",
   "execution_count": null,
   "metadata": {},
   "outputs": [],
   "source": []
  }
 ],
 "metadata": {
  "kernelspec": {
   "display_name": "Python 3",
   "language": "python",
   "name": "python3"
  },
  "language_info": {
   "codemirror_mode": {
    "name": "ipython",
    "version": 3
   },
   "file_extension": ".py",
   "mimetype": "text/x-python",
   "name": "python",
   "nbconvert_exporter": "python",
   "pygments_lexer": "ipython3",
   "version": "3.8.5"
  }
 },
 "nbformat": 4,
 "nbformat_minor": 4
}
