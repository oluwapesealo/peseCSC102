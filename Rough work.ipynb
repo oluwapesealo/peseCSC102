{
 "cells": [
  {
   "cell_type": "code",
   "execution_count": 7,
   "metadata": {},
   "outputs": [
    {
     "ename": "SyntaxError",
     "evalue": "invalid syntax (<ipython-input-7-da2357c525b3>, line 2)",
     "output_type": "error",
     "traceback": [
      "\u001b[1;36m  File \u001b[1;32m\"<ipython-input-7-da2357c525b3>\"\u001b[1;36m, line \u001b[1;32m2\u001b[0m\n\u001b[1;33m    print (List(a))\"\"\u001b[0m\n\u001b[1;37m                   ^\u001b[0m\n\u001b[1;31mSyntaxError\u001b[0m\u001b[1;31m:\u001b[0m invalid syntax\n"
     ]
    }
   ],
   "source": [
    "a = range(1, 3)\n",
    "print (a)"
   ]
  },
  {
   "cell_type": "code",
   "execution_count": 1,
   "metadata": {},
   "outputs": [
    {
     "name": "stdout",
     "output_type": "stream",
     "text": [
      "you now have your coffee with 2 milk, 0 sugar and 1 coffeemate\n",
      "0\n",
      "you now have your coffee with 3 milk, 15 sugar and 3 coffeemate\n",
      "you now have your coffee with 3 milk, 3 sugar and 1 coffeemate\n",
      "15\n",
      "we have made 3 coffee cups so far\n",
      "we have made 3 coffee cups so far\n",
      "we have made 3 coffee cups so far\n"
     ]
    }
   ],
   "source": [
    "class Coffee:\n",
    "   coffeeCupCounter = 0\n",
    "   def __init__(self, themilk, thesugar, thecoffeemate):\n",
    "        self.milk = themilk\n",
    "        self.sugar = thesugar\n",
    "        self.coffeemate = thecoffeemate\n",
    "        Coffee.coffeeCupCounter= Coffee.coffeeCupCounter +1\n",
    "        print(f\"you now have your coffee with {self.milk} milk, {self.sugar} sugar and {self.coffeemate} coffeemate\")\n",
    "        \n",
    "mySugarFreeCoffee = Coffee(2,0,1)        \n",
    "\n",
    "print(mySugarFreeCoffee.sugar)\n",
    "\n",
    "myPlentySugarCoffee = Coffee(3,15,3)\n",
    "\n",
    "peseFavoriteCoffee = Coffee(3,3,1)\n",
    "\n",
    "print(myPlentySugarCoffee.sugar)\n",
    "\n",
    "print(f\"we have made {Coffee.coffeeCupCounter} coffee cups so far\")\n",
    "    \n",
    "print(f\"we have made {mySugarFreeCoffee.coffeeCupCounter} coffee cups so far\")\n",
    "\n",
    "print(f\"we have made {myPlentySugarCoffee.coffeeCupCounter} coffee cups so far\")"
   ]
  },
  {
   "cell_type": "code",
   "execution_count": null,
   "metadata": {},
   "outputs": [],
   "source": [
    "\n"
   ]
  }
 ],
 "metadata": {
  "kernelspec": {
   "display_name": "Python 3",
   "language": "python",
   "name": "python3"
  },
  "language_info": {
   "codemirror_mode": {
    "name": "ipython",
    "version": 3
   },
   "file_extension": ".py",
   "mimetype": "text/x-python",
   "name": "python",
   "nbconvert_exporter": "python",
   "pygments_lexer": "ipython3",
   "version": "3.8.5"
  }
 },
 "nbformat": 4,
 "nbformat_minor": 4
}
